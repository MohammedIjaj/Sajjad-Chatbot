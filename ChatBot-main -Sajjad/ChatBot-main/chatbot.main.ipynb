{
 "cells": [
  {
   "cell_type": "code",
   "execution_count": 1,
   "id": "0f7becd1",
   "metadata": {},
   "outputs": [
    {
     "name": "stdout",
     "output_type": "stream",
     "text": [
      " * Serving Flask app '__main__'\n",
      " * Debug mode: off\n"
     ]
    },
    {
     "name": "stderr",
     "output_type": "stream",
     "text": [
      "WARNING: This is a development server. Do not use it in a production deployment. Use a production WSGI server instead.\n",
      " * Running on http://127.0.0.1:5000\n",
      "Press CTRL+C to quit\n"
     ]
    }
   ],
   "source": [
    "from flask import Flask, render_template, request, jsonify, redirect, url_for\n",
    "\n",
    "from transformers import AutoModelForCausalLM, AutoTokenizer\n",
    "import torch\n",
    "\n",
    "tokenizer = AutoTokenizer.from_pretrained(\"microsoft/DialoGPT-medium\")\n",
    "model = AutoModelForCausalLM.from_pretrained(\"microsoft/DialoGPT-medium\")\n",
    "\n",
    "app = Flask(__name__)\n",
    "\n",
    "# Dummy user data (replace this with a proper user authentication mechanism)\n",
    "users = {'user1': 'password1', 'user2': 'password2'}\n",
    "\n",
    "@app.route(\"/\")\n",
    "def index():\n",
    "    return render_template('login.html')\n",
    "\n",
    "@app.route(\"/login\", methods=[\"POST\"])\n",
    "def login():\n",
    "    username = request.form['username']\n",
    "    password = request.form['password']\n",
    "\n",
    "    if username in users and users[username] == password:\n",
    "        # Redirect to chat.html after successful login\n",
    "        return redirect(url_for('chat'))\n",
    "    else:\n",
    "        return render_template('login.html', error='Invalid username or password')\n",
    "\n",
    "# Add this route for rendering chat.html\n",
    "@app.route(\"/chat\")\n",
    "def chat():\n",
    "    return render_template('chat.html')\n",
    "\n",
    "@app.route(\"/get\", methods=[\"POST\"])\n",
    "def chat_response():\n",
    "    msg = request.form[\"msg\"]\n",
    "    return get_Chat_response(msg)\n",
    "\n",
    "def get_Chat_response(text):\n",
    "    # Let's chat for 5 lines\n",
    "    for step in range(5):\n",
    "        # encode the new user input, add the eos_token and return a tensor in Pytorch\n",
    "        new_user_input_ids = tokenizer.encode(str(text) + tokenizer.eos_token, return_tensors='pt')\n",
    "\n",
    "        # append the new user input tokens to the chat history\n",
    "        bot_input_ids = torch.cat([chat_history_ids, new_user_input_ids], dim=-1) if step > 0 else new_user_input_ids\n",
    "\n",
    "        # generated a response while limiting the total chat history to 1000 tokens,\n",
    "        chat_history_ids = model.generate(bot_input_ids, max_length=1000, pad_token_id=tokenizer.eos_token_id)\n",
    "\n",
    "        # pretty print last output tokens from bot\n",
    "        response = tokenizer.decode(chat_history_ids[:, bot_input_ids.shape[-1]:][0], skip_special_tokens=True)\n",
    "\n",
    "    return response\n",
    "\n",
    "if __name__ == '__main__':\n",
    "    app.run()\n"
   ]
  },
  {
   "cell_type": "code",
   "execution_count": null,
   "id": "67020548",
   "metadata": {},
   "outputs": [],
   "source": []
  }
 ],
 "metadata": {
  "kernelspec": {
   "display_name": "Python 3 (ipykernel)",
   "language": "python",
   "name": "python3"
  },
  "language_info": {
   "codemirror_mode": {
    "name": "ipython",
    "version": 3
   },
   "file_extension": ".py",
   "mimetype": "text/x-python",
   "name": "python",
   "nbconvert_exporter": "python",
   "pygments_lexer": "ipython3",
   "version": "3.11.5"
  }
 },
 "nbformat": 4,
 "nbformat_minor": 5
}
